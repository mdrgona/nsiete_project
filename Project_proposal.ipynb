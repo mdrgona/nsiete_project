{
 "cells": [
  {
   "cell_type": "markdown",
   "metadata": {},
   "source": [
    "# Personalizovany odporucaci system\n",
    "\n",
    "#### Autori: Marek Drgona, Daniel Pekarcik"
   ]
  },
  {
   "cell_type": "markdown",
   "metadata": {},
   "source": [
    "## Uvod a motivacia"
   ]
  },
  {
   "cell_type": "markdown",
   "metadata": {},
   "source": [
    "## Podobne riesenia"
   ]
  },
  {
   "cell_type": "markdown",
   "metadata": {},
   "source": [
    "Ako uz bolo spomenute v uvode, jednym z typom odporucacich systemov je kolaborativne filtrovanie, na ktore sa my zameriame. Avsak, metody kolaborativneho filtrovania je mozne dalej na **memory-based approaches**, kde algoritmus vacsinou hlada podobnych pouzivatelov vyuzitim kosinusovej podobnosti a **model-based approaches**, kde sa vyuzivaju modely strojoveho ucenia [1]. V ramci **model-based approaches**, s cielom zlepsit vysledky predoslych pristupov, pricom sa pouzivaju metody strojoveho ucenia, ako napr. redukcia dimenzionality (SVD, PCA) ale aj zhlukovanie [2].\n",
    "\n",
    "Kedze bolo poukazane, ze aplikovanie hlbokeho ucenia v roznych oblastiach (napr. spracovania prirodzeneho jazyka alebo pocitacoveho videnia) dokaze zlepsovat vysledky dovtedy pouzivanych pristupov strojoveho ucenia, zacalo sa samozrejme experimentovat aj v oblasti odporucacich systemov. Napriek tomu, ze v oblasti kolaborativneho filtrovania nebolo doposial vykonaneho vela vyskumu, aplikovanie neuronovej siete dokazalo zvysit vysledky. V pracach boli pouzite nasledujuce typy neuronovych sieti [3]:\n",
    "* **Viacvsrtvovy perceptron** (angl. multilayer perceptron, MLP) -> autori navrhli framework NCF (angl. neural collaborative filtering) pouzitim spomenuteho viacvrstoveho perceptronu s cielom naucit siet interakcie medzi pouzivatelom a objektom, ktory hodnoti. Pouzitie MLP dokazalo zlepsit vysledky klasickych pristupov [4],\n",
    "* **CNN** -> v tomto pripade bola snaha vylepsit predchadzajuce riesenie NCF, pricom autor vytvoril novu metodu ktoru nazval ConvNCF. Vysledky NCF sa podarilo prekonat [5],\n",
    "* **AutoEncoder**\n"
   ]
  },
  {
   "cell_type": "markdown",
   "metadata": {},
   "source": [
    "## Datasety"
   ]
  },
  {
   "cell_type": "markdown",
   "metadata": {},
   "source": [
    "V domene odporucanich systemov existuje mnozstvo datasetov v roznych domenach odporucania, ako napr. domena filmov, hudby, produktov na e-shopoch a inych. My sme sa rozhodli pre trochu netradicnejsiu domenu a to domenu vtipov. Vybrali sme si znamy dataset **Jester** (link: http://eigentaste.berkeley.edu/dataset/), konkretne jeho verziu 2, teda zip repozitar **jester_dataset2.zip** (7.7MB). Zip sa sklada z dvoch suborov s datami:\n",
    "\n",
    "\n",
    "**jester_ratings.dat** : subor obsahuje hodnotenia 36531 pouzivatelov ohladom 140 vtipov. Jeden pouzivatel mohol samozrejme hodnotit viacero vtipov ale nemusel vsetky. Dataset ma tvar (1048576,3). Jeden zaznam (riadok) je v tvare:\n",
    "* ID pouzivatela,\n",
    "* ID vtipu,\n",
    "* Hodnotenie\n",
    "\n",
    "**jester_items.dat**: subor obsahuje textove znenia vtipov, ma tvar (150,2). Riadok je v tvare:\n",
    "* ID vtipu,\n",
    "* Textove znenie vtipu\n",
    "\n",
    "Celkovy pocet vtipov v datasetoch je teda 150, lenze 10 vtipov nebolo hodnotenych ziadnym pouzivatelom, preto sa v hodnoteniach vyskytuje iba 140."
   ]
  },
  {
   "cell_type": "markdown",
   "metadata": {},
   "source": [
    "## Strucny navrh riesenia"
   ]
  },
  {
   "cell_type": "markdown",
   "metadata": {},
   "source": [
    "## Referencie\n",
    "[1] [Breese, John S., David Heckerman, and Carl Kadie. \"Empirical analysis of predictive algorithms for collaborative filtering.\" Proceedings of the Fourteenth conference on Uncertainty in artificial intelligence. Morgan Kaufmann Publishers Inc., 1998.](https://dl.acm.org/citation.cfm?id=2074100)\n",
    "\n",
    "[2] [Isinkaye, F. O., Y. O. Folajimi, and B. A. Ojokoh. \"Recommendation systems: Principles, methods and evaluation.\" Egyptian Informatics Journal 16.3 (2015): 261-273.](https://www.sciencedirect.com/science/article/pii/S1110866515000341)\n",
    "\n",
    "[3] [Zhang, Shuai et al. “Deep Learning Based Recommender System.” ACM Computing Surveys 52.1 (2019): 1–38. Crossref. Web.](https://arxiv.org/abs/1707.07435)\n",
    "\n",
    "[4] [Xiangnan He, Lizi Liao, Hanwang Zhang, Liqiang Nie, Xia Hu, and Tat-Seng Chua. 2017. Neural Collaborative Filtering. In Proceedings of the 26th International Conference on World Wide Web (WWW '17). International World Wide Web Conferences Steering Committee, Republic and Canton of Geneva, Switzerland, 173-182. DOI: https://doi.org/10.1145/3038912.3052569](https://dl.acm.org/citation.cfm?id=3052569)]\n",
    "\n",
    "[5] [He, Xiangnan, et al. \"Outer product-based neural collaborative filtering.\" arXiv preprint arXiv:1808.03912 (2018).](https://arxiv.org/abs/1808.03912)"
   ]
  },
  {
   "cell_type": "code",
   "execution_count": null,
   "metadata": {},
   "outputs": [],
   "source": []
  }
 ],
 "metadata": {
  "kernelspec": {
   "display_name": "Python 3",
   "language": "python",
   "name": "python3"
  },
  "language_info": {
   "codemirror_mode": {
    "name": "ipython",
    "version": 3
   },
   "file_extension": ".py",
   "mimetype": "text/x-python",
   "name": "python",
   "nbconvert_exporter": "python",
   "pygments_lexer": "ipython3",
   "version": "3.7.3"
  }
 },
 "nbformat": 4,
 "nbformat_minor": 2
}
