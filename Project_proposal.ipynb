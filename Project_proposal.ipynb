{
 "cells": [
  {
   "cell_type": "markdown",
   "metadata": {},
   "source": [
    "# Motivacia"
   ]
  },
  {
   "cell_type": "markdown",
   "metadata": {},
   "source": [
    "# Podobne riesenia"
   ]
  },
  {
   "cell_type": "markdown",
   "metadata": {},
   "source": [
    "# Datasety"
   ]
  },
  {
   "cell_type": "markdown",
   "metadata": {},
   "source": [
    "V domene odporucanich systemov existuje mnozstvo datasetov v roznych domenach odporucania, ako napr. domena filmov, hudby, produktov na e-shopoch a inych. My sme sa rozhodli pre trochu netradicnejsiu domenu a to domenu vtipov. Vybrali sme si znamy dataset **Jester** (link: http://eigentaste.berkeley.edu/dataset/), konkretne jeho verziu 2, teda zip repozitar **jester_dataset2.zip** (7.7MB). Zip sa sklada z dvoch suborov s datami:\n",
    "\n",
    "\n",
    "**jester_ratings.dat** : subor obsahuje hodnotenia 36531 pouzivatelov ohladom 140 vtipov. Jeden pouzivatel mohol samozrejme hodnotit viacero vtipov ale nemusel vsetky. Dataset ma tvar (1048576,3). Jeden zaznam (riadok) je v tvare:\n",
    "* ID pouzivatela,\n",
    "* ID vtipu,\n",
    "* Hodnotenie\n",
    "\n",
    "**jester_items.dat**: subor obsahuje textove znenia vtipov, ma tvar (150,2). Riadok je v tvare:\n",
    "* ID vtipu,\n",
    "* Textove znenie vtipu\n",
    "\n",
    "Celkovy pocet vtipov v datasetoch je teda 150, lenze 10 vtipov nebolo hodnotenych ziadnym pouzivatelom, preto sa v hodnoteniach vyskytuje iba 140."
   ]
  },
  {
   "cell_type": "markdown",
   "metadata": {},
   "source": [
    "# Strucny navrh riesenia"
   ]
  },
  {
   "cell_type": "markdown",
   "metadata": {},
   "source": [
    "# Referencie"
   ]
  },
  {
   "cell_type": "markdown",
   "metadata": {},
   "source": [
    "### Zaujimave clanky"
   ]
  },
  {
   "cell_type": "markdown",
   "metadata": {},
   "source": [
    "Jester existujuci system - https://goldberg.berkeley.edu/pubs/tavi-recsys2007-spap122s1-nathanson.pdf\n",
    "\n",
    "Textove features do recommender systemu - https://jamesrledoux.com/projects/gutenberg-recommender-system/\n",
    "\n",
    "https://journal-bcs.springeropen.com/articles/10.1186/s13173-017-0057-8\n",
    "\n",
    "https://www.aclweb.org/anthology/W15-1509.pdf"
   ]
  },
  {
   "cell_type": "code",
   "execution_count": null,
   "metadata": {},
   "outputs": [],
   "source": []
  }
 ],
 "metadata": {
  "kernelspec": {
   "display_name": "Python 3",
   "language": "python",
   "name": "python3"
  },
  "language_info": {
   "codemirror_mode": {
    "name": "ipython",
    "version": 3
   },
   "file_extension": ".py",
   "mimetype": "text/x-python",
   "name": "python",
   "nbconvert_exporter": "python",
   "pygments_lexer": "ipython3",
   "version": "3.7.3"
  }
 },
 "nbformat": 4,
 "nbformat_minor": 2
}
