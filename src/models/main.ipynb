{
 "cells": [
  {
   "cell_type": "code",
   "execution_count": 1,
   "metadata": {
    "scrolled": false
   },
   "outputs": [
    {
     "data": {
      "text/html": [
       "\n",
       "      <iframe id=\"tensorboard-frame-d9898241bf0a2551\" width=\"100%\" height=\"800\" frameborder=\"0\">\n",
       "      </iframe>\n",
       "      <script>\n",
       "        (function() {\n",
       "          const frame = document.getElementById(\"tensorboard-frame-d9898241bf0a2551\");\n",
       "          const url = new URL(\"/\", window.location);\n",
       "          url.port = 6006;\n",
       "          frame.src = url;\n",
       "        })();\n",
       "      </script>\n",
       "  "
      ],
      "text/plain": [
       "<IPython.core.display.HTML object>"
      ]
     },
     "metadata": {},
     "output_type": "display_data"
    }
   ],
   "source": [
    "import sys\n",
    "sys.path.append('../..')\n",
    "from src.models import *\n",
    "\n",
    "%load_ext autoreload\n",
    "%autoreload 2\n",
    "\n",
    "%load_ext tensorboard\n",
    "%tensorboard --logdir '../../logs' --bind_all"
   ]
  },
  {
   "cell_type": "code",
   "execution_count": 2,
   "metadata": {
    "scrolled": false
   },
   "outputs": [
    {
     "name": "stdout",
     "output_type": "stream",
     "text": [
      "Train on 14400 samples, validate on 1600 samples\n",
      "Epoch 1/10\n",
      "14400/14400 [==============================] - 1s 86us/sample - loss: 4.2900 - val_loss: 4.0918\n",
      "Epoch 2/10\n",
      "14400/14400 [==============================] - 1s 39us/sample - loss: 3.7707 - val_loss: 4.0200\n",
      "Epoch 3/10\n",
      "14400/14400 [==============================] - 1s 39us/sample - loss: 3.7215 - val_loss: 4.0033\n",
      "Epoch 4/10\n",
      "14400/14400 [==============================] - 1s 40us/sample - loss: 3.6985 - val_loss: 4.0185\n",
      "Epoch 5/10\n",
      "14400/14400 [==============================] - 1s 48us/sample - loss: 3.6874 - val_loss: 4.0196\n",
      "Epoch 6/10\n",
      "14400/14400 [==============================] - 1s 58us/sample - loss: 3.6747 - val_loss: 4.0602\n",
      "Epoch 7/10\n",
      "14400/14400 [==============================] - 1s 44us/sample - loss: 3.6642 - val_loss: 4.0237\n",
      "Epoch 8/10\n",
      "14400/14400 [==============================] - 1s 44us/sample - loss: 3.6559 - val_loss: 4.0226\n",
      "Epoch 9/10\n",
      "14400/14400 [==============================] - 1s 49us/sample - loss: 3.6549 - val_loss: 4.0145\n",
      "Epoch 10/10\n",
      "14400/14400 [==============================] - 1s 52us/sample - loss: 3.6428 - val_loss: 4.0299\n",
      "---------------------------\n",
      "Mean absolute error: 3.9391\n",
      "Precision:       TODO\n",
      "---------------------------\n"
     ]
    }
   ],
   "source": [
    "%run -i 'train_MLP.py'"
   ]
  },
  {
   "cell_type": "code",
   "execution_count": 18,
   "metadata": {},
   "outputs": [
    {
     "ename": "TypeError",
     "evalue": "__init__() missing 1 required positional argument: 'n_rows'",
     "output_type": "error",
     "traceback": [
      "\u001b[0;31m---------------------------------------------------------------------------\u001b[0m",
      "\u001b[0;31mTypeError\u001b[0m                                 Traceback (most recent call last)",
      "\u001b[0;32m/labs/src/models/train_GMF.py\u001b[0m in \u001b[0;36m<module>\u001b[0;34m\u001b[0m\n\u001b[1;32m     24\u001b[0m \u001b[0mn_jokes\u001b[0m \u001b[0;34m=\u001b[0m \u001b[0mlen\u001b[0m\u001b[0;34m(\u001b[0m\u001b[0mjoke_encoded\u001b[0m\u001b[0;34m[\u001b[0m\u001b[0;36m0\u001b[0m\u001b[0;34m]\u001b[0m\u001b[0;34m)\u001b[0m\u001b[0;34m\u001b[0m\u001b[0;34m\u001b[0m\u001b[0m\n\u001b[1;32m     25\u001b[0m \u001b[0;34m\u001b[0m\u001b[0m\n\u001b[0;32m---> 26\u001b[0;31m \u001b[0mmodel\u001b[0m \u001b[0;34m=\u001b[0m \u001b[0mJokeRecommender\u001b[0m\u001b[0;34m(\u001b[0m\u001b[0mn_users\u001b[0m\u001b[0;34m,\u001b[0m \u001b[0mn_jokes\u001b[0m\u001b[0;34m)\u001b[0m\u001b[0;34m\u001b[0m\u001b[0;34m\u001b[0m\u001b[0m\n\u001b[0m\u001b[1;32m     27\u001b[0m \u001b[0;34m\u001b[0m\u001b[0m\n\u001b[1;32m     28\u001b[0m model.compile(\n",
      "\u001b[0;31mTypeError\u001b[0m: __init__() missing 1 required positional argument: 'n_rows'"
     ]
    }
   ],
   "source": [
    "import sys\n",
    "sys.path.append('../..')\n",
    "from src.models import *\n",
    "\n",
    "%run -i 'train_GMF.py'"
   ]
  }
 ],
 "metadata": {
  "kernelspec": {
   "display_name": "Python 3",
   "language": "python",
   "name": "python3"
  },
  "language_info": {
   "codemirror_mode": {
    "name": "ipython",
    "version": 3
   },
   "file_extension": ".py",
   "mimetype": "text/x-python",
   "name": "python",
   "nbconvert_exporter": "python",
   "pygments_lexer": "ipython3",
   "version": "3.6.8"
  }
 },
 "nbformat": 4,
 "nbformat_minor": 2
}
