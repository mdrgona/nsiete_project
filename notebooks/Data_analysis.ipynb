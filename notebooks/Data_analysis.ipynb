{
 "cells": [
  {
   "cell_type": "code",
   "execution_count": 2,
   "metadata": {},
   "outputs": [],
   "source": [
    "import numpy as np\n",
    "import pandas as pd\n",
    "import seaborn as sns"
   ]
  },
  {
   "cell_type": "markdown",
   "metadata": {},
   "source": [
    "# Ratings"
   ]
  },
  {
   "cell_type": "markdown",
   "metadata": {},
   "source": [
    "Nacitanie datasetu s hodnoteniami"
   ]
  },
  {
   "cell_type": "code",
   "execution_count": 32,
   "metadata": {},
   "outputs": [],
   "source": [
    "data = pd.read_csv('../data/Jester-Dataset-ratings.csv', delimiter=',')"
   ]
  },
  {
   "cell_type": "code",
   "execution_count": 4,
   "metadata": {},
   "outputs": [
    {
     "name": "stdout",
     "output_type": "stream",
     "text": [
      "<class 'pandas.core.frame.DataFrame'>\n",
      "RangeIndex: 1048575 entries, 0 to 1048574\n",
      "Data columns (total 3 columns):\n",
      "USER_ID    1048575 non-null int64\n",
      "JOKE_ID    1048575 non-null int64\n",
      "Rating     1048575 non-null float64\n",
      "dtypes: float64(1), int64(2)\n",
      "memory usage: 24.0 MB\n"
     ]
    }
   ],
   "source": [
    "data.info()"
   ]
  },
  {
   "cell_type": "code",
   "execution_count": 5,
   "metadata": {},
   "outputs": [
    {
     "data": {
      "text/html": [
       "<div>\n",
       "<style scoped>\n",
       "    .dataframe tbody tr th:only-of-type {\n",
       "        vertical-align: middle;\n",
       "    }\n",
       "\n",
       "    .dataframe tbody tr th {\n",
       "        vertical-align: top;\n",
       "    }\n",
       "\n",
       "    .dataframe thead th {\n",
       "        text-align: right;\n",
       "    }\n",
       "</style>\n",
       "<table border=\"1\" class=\"dataframe\">\n",
       "  <thead>\n",
       "    <tr style=\"text-align: right;\">\n",
       "      <th></th>\n",
       "      <th>USER_ID</th>\n",
       "      <th>JOKE_ID</th>\n",
       "      <th>Rating</th>\n",
       "    </tr>\n",
       "  </thead>\n",
       "  <tbody>\n",
       "    <tr>\n",
       "      <th>0</th>\n",
       "      <td>1</td>\n",
       "      <td>5</td>\n",
       "      <td>0.219</td>\n",
       "    </tr>\n",
       "    <tr>\n",
       "      <th>1</th>\n",
       "      <td>1</td>\n",
       "      <td>7</td>\n",
       "      <td>-9.281</td>\n",
       "    </tr>\n",
       "    <tr>\n",
       "      <th>2</th>\n",
       "      <td>1</td>\n",
       "      <td>8</td>\n",
       "      <td>-9.281</td>\n",
       "    </tr>\n",
       "    <tr>\n",
       "      <th>3</th>\n",
       "      <td>1</td>\n",
       "      <td>13</td>\n",
       "      <td>-6.781</td>\n",
       "    </tr>\n",
       "    <tr>\n",
       "      <th>4</th>\n",
       "      <td>1</td>\n",
       "      <td>15</td>\n",
       "      <td>0.875</td>\n",
       "    </tr>\n",
       "  </tbody>\n",
       "</table>\n",
       "</div>"
      ],
      "text/plain": [
       "   USER_ID  JOKE_ID  Rating\n",
       "0        1        5   0.219\n",
       "1        1        7  -9.281\n",
       "2        1        8  -9.281\n",
       "3        1       13  -6.781\n",
       "4        1       15   0.875"
      ]
     },
     "execution_count": 5,
     "metadata": {},
     "output_type": "execute_result"
    }
   ],
   "source": [
    "data.head()"
   ]
  },
  {
   "cell_type": "markdown",
   "metadata": {},
   "source": [
    "## Popis stplcov"
   ]
  },
  {
   "cell_type": "code",
   "execution_count": 6,
   "metadata": {
    "scrolled": true
   },
   "outputs": [
    {
     "data": {
      "text/plain": [
       "Index(['USER_ID', 'JOKE_ID', 'Rating'], dtype='object')"
      ]
     },
     "execution_count": 6,
     "metadata": {},
     "output_type": "execute_result"
    }
   ],
   "source": [
    "data.columns"
   ]
  },
  {
   "cell_type": "markdown",
   "metadata": {},
   "source": [
    "Dataset s hodnoteniami sa skladá z troch stĺpcov:\n",
    " - USER_ID - identifikátor používateľa, ktorý hodnotil položku\n",
    " - JOKE_ID - identifikátor položky, ktorá bola hodnotená\n",
    " - Rating - hodnotenie položky"
   ]
  },
  {
   "cell_type": "markdown",
   "metadata": {},
   "source": [
    "## Početnosti"
   ]
  },
  {
   "cell_type": "code",
   "execution_count": 7,
   "metadata": {},
   "outputs": [
    {
     "data": {
      "text/plain": [
       "(1048575, 3)"
      ]
     },
     "execution_count": 7,
     "metadata": {},
     "output_type": "execute_result"
    }
   ],
   "source": [
    "np.shape(data)"
   ]
  },
  {
   "cell_type": "code",
   "execution_count": 8,
   "metadata": {},
   "outputs": [
    {
     "data": {
      "text/plain": [
       "36531"
      ]
     },
     "execution_count": 8,
     "metadata": {},
     "output_type": "execute_result"
    }
   ],
   "source": [
    "len(data.USER_ID.unique())"
   ]
  },
  {
   "cell_type": "code",
   "execution_count": 9,
   "metadata": {},
   "outputs": [
    {
     "data": {
      "text/plain": [
       "140"
      ]
     },
     "execution_count": 9,
     "metadata": {},
     "output_type": "execute_result"
    }
   ],
   "source": [
    "len(data.JOKE_ID.unique())"
   ]
  },
  {
   "cell_type": "markdown",
   "metadata": {},
   "source": [
    "Dataset obsahuje 1 048 575 záznamov s hodnoteniami. \n",
    "Počet vtipov, ktoré boli hodnotené je 140 a počet používateľov, ktorí vtipy hodnotili, je 36531."
   ]
  },
  {
   "cell_type": "markdown",
   "metadata": {},
   "source": [
    "## Distribúcia hodnotení"
   ]
  },
  {
   "cell_type": "code",
   "execution_count": 10,
   "metadata": {},
   "outputs": [
    {
     "data": {
      "text/plain": [
       "count    1.048575e+06\n",
       "mean     1.532786e+00\n",
       "std      5.271349e+00\n",
       "min     -1.000000e+01\n",
       "25%     -2.156000e+00\n",
       "50%      2.156000e+00\n",
       "75%      5.562000e+00\n",
       "max      1.000000e+01\n",
       "Name: Rating, dtype: float64"
      ]
     },
     "execution_count": 10,
     "metadata": {},
     "output_type": "execute_result"
    }
   ],
   "source": [
    "data['Rating'].describe()"
   ]
  },
  {
   "cell_type": "code",
   "execution_count": 11,
   "metadata": {},
   "outputs": [
    {
     "data": {
      "text/plain": [
       "<matplotlib.axes._subplots.AxesSubplot at 0x7f82bf5979b0>"
      ]
     },
     "execution_count": 11,
     "metadata": {},
     "output_type": "execute_result"
    },
    {
     "data": {
      "image/png": "[encoded data removed]",
      "text/plain": [
       "<Figure size 432x288 with 1 Axes>"
      ]
     },
     "metadata": {
      "needs_background": "light"
     },
     "output_type": "display_data"
    }
   ],
   "source": [
    "data['Rating'].hist(bins=50)"
   ]
  },
  {
   "cell_type": "code",
   "execution_count": 12,
   "metadata": {},
   "outputs": [
    {
     "data": {
      "text/plain": [
       "array([  0.219,  -9.281,  -6.781,   0.875,  -9.656,  -9.031,  -7.469,\n",
       "        -8.719,  -9.156,  -7.188,  -8.781,  -8.531,  -7.906,   9.812,\n",
       "         9.906,   0.75 ,  -5.   ,   2.938,   2.   ,  -0.156,   2.031,\n",
       "         5.688,   9.656,   8.   ,   9.312,   8.781,   8.688,   0.   ,\n",
       "         0.062,  -0.25 ,  -0.125,   0.125,   0.031,   3.625,   3.344,\n",
       "        -9.688,   9.938,   9.531,   0.406,   3.719,  -2.688,  -9.562,\n",
       "        -9.125,   9.781,   3.125,   9.844,  -4.25 ,   5.125,   9.562,\n",
       "        -4.312,   4.781,   5.5  ,   4.969,  -2.125,   4.75 ,   3.688,\n",
       "        -0.312,  -0.781,   3.938,   9.281,  -9.844,  -7.219,  -2.031,\n",
       "        -9.938,  -9.969,  -9.875,  -9.812,  -9.781,  -6.844,   1.25 ,\n",
       "         0.344,  -5.812,  -4.5  ,  -4.906,   6.906,  -5.906,  -0.406,\n",
       "        -4.031,   3.875,   6.219,   5.656,   6.094,   5.406,   0.25 ,\n",
       "         4.438,   5.562,   0.5  ,   0.312,   3.812,   0.625,   1.969,\n",
       "         4.906,   4.469,   0.469,   4.281,   0.438,   2.594,   0.781,\n",
       "         6.   ,   7.062,   6.375,   1.188,   0.562,   2.281,   2.812,\n",
       "         2.75 ,   4.375,   4.812,   1.438,   1.688,   3.906,   3.562,\n",
       "         2.875,   3.188,   3.219,   7.719,   6.281,   5.75 ,   7.031,\n",
       "         6.25 ,   2.5  ,   6.156,   5.781,   4.156,   3.969,   4.188,\n",
       "         0.531,  -6.438,  -0.031,   0.906,   0.094,   0.156,   0.594,\n",
       "         0.281,   0.844,   1.062,   1.812,  -9.094,   7.5  ,  -9.438,\n",
       "         3.656,   4.406,  -8.281,  -8.125,  -4.812,  -5.562,   6.062,\n",
       "        -9.062,   8.125,   7.906,   8.406,  -5.406,  -5.094,   3.844,\n",
       "         5.969,  -7.5  ,  -2.906,  -2.344,  -0.5  ,  -0.969,   2.25 ,\n",
       "         0.969,   3.281,   1.625,   2.625,   2.438,   1.344,   1.719,\n",
       "         1.531,   2.344,  -7.438,  -0.812,  -3.438,  -2.219,  -4.531,\n",
       "        -1.   ,  -4.406,   2.125,  -3.562,   4.   ,   6.75 ,  -0.875,\n",
       "         7.25 ,   3.75 ,   2.969,   4.875,   7.625,   5.719,   5.875,\n",
       "         5.344,   5.094,   5.188,   3.312,   8.375,  -1.812,   5.906,\n",
       "         4.531,   4.125,  -3.   ,  -2.281,  -1.969,  -4.75 ,  -0.688,\n",
       "         7.094,   3.531,  -3.312,   3.469,   0.688,   1.094,  -6.406,\n",
       "        -0.844,  -0.219,   1.281,   4.594,   8.25 ,   9.   ,   8.875,\n",
       "         9.75 ,   9.375,   9.219,   9.031,   8.844,  -9.531,  -5.938,\n",
       "         8.812,   8.5  ,   8.719,   9.438,  -5.75 ,   8.281,   3.594,\n",
       "        -3.844,  -6.312,   3.375,   6.594,   7.125,   8.031,   1.406,\n",
       "        -1.406,   1.219,   6.688,   0.719,   2.688,   8.438,  -6.188,\n",
       "         2.188,   2.406,   1.   ,  -1.75 ,  -0.094,   1.375,   1.875,\n",
       "        -0.594,  -0.375,   1.031,   5.844,   2.219,   1.906,   2.469,\n",
       "         0.656,  -2.062,  -2.312,   1.75 ,   5.469,  -3.281,   7.594,\n",
       "         3.   ,  -1.719,   1.156,  -1.938,   1.469,   1.781,  -1.312,\n",
       "         1.656,   0.375,  -1.031,   4.844,   2.656,  -1.469,  -5.156,\n",
       "        -1.188,  -7.156,  -5.5  ,  -6.   ,   3.438,   5.062,   4.094,\n",
       "        -2.75 ,   3.031,   3.781,  -5.188,   1.5  ,  -2.719,  -6.938,\n",
       "        -0.188,   6.5  ,   4.562,   1.312,   5.812,  -9.312,  -9.375,\n",
       "        -1.875,  -2.156,  -8.875,  -7.969,  -8.   ,  -8.344,  -8.844,\n",
       "        -2.188,   4.719,   4.031,   5.438,   2.375,   5.25 ,   3.094,\n",
       "        -7.094,   4.625,  -7.   ,  -3.031,  -3.719,  -3.75 ,   1.562,\n",
       "         3.156,   2.094,  -7.344,  -0.562,  -7.625,  -6.031,  -1.125,\n",
       "        -6.062,  -5.344,  -7.375,  -6.25 ,  -6.688,  -7.812,  -6.375,\n",
       "        -8.375,  -4.219,  -3.906,  -0.938,  -3.375,  -0.531,  -0.438,\n",
       "         8.75 ,   9.688,  -9.906,  -8.938,  -9.594,  -9.5  ,   9.969,\n",
       "        -9.   ,   7.   ,   5.219,   3.406,  -2.   ,  -5.375,   2.844,\n",
       "         5.531, -10.   ,  -7.031,  -3.5  ,  -5.031,  -8.688,  -4.438,\n",
       "         8.094,  -8.969,   2.531,  -9.25 ,  -3.156,  -4.875,  -5.125,\n",
       "        -6.812,  -6.875,  -4.656,  -8.25 ,  -7.281,  -8.438,  -9.625,\n",
       "        -5.656,   1.938,   8.156,  10.   ,   6.719,   6.625,   8.906,\n",
       "        -0.062,   6.938,   7.969,   2.719,   5.938,  -8.156,  -7.75 ,\n",
       "        -4.562,  -5.531,  -2.25 ,  -3.531,  -7.312,   4.312,  -1.062,\n",
       "        -8.906,  -6.125,   3.5  ,   6.312,  -2.406,  -8.625,  -8.406,\n",
       "        -9.188,   4.5  ,   6.438,  -5.625,  -6.531,  -4.938,  -6.281,\n",
       "         6.188,   9.406,   8.344,  -3.219,  -0.719,   5.156,  -9.219,\n",
       "         6.781,   4.344,  -1.656,  -4.125,  -2.594,   1.844,  -4.156,\n",
       "         5.281,   2.312,  -1.094,   5.625,  -5.281,  -2.531,   7.656,\n",
       "        -6.219,  -5.219,  -0.344,  -7.062,  -8.656,  -8.219,   8.656,\n",
       "         9.344,   7.406,   8.625,   7.312,   9.25 ,   9.625,  -4.625,\n",
       "        -3.625,   2.906,  -1.625,  -1.906,  -7.594,  -1.344,  -0.906,\n",
       "        -7.562,  -6.094,   7.219,   2.781,  -3.062,   0.938,  -3.188,\n",
       "        -4.781,   5.   ,   7.469,   4.062,   5.031,   2.562,  -1.781,\n",
       "         7.344,  -3.594,   4.219,  -2.469,  -0.281,   2.156,  -2.375,\n",
       "        -1.25 ,  -6.719,  -2.969,   0.812,  -8.562,  -8.594,  -6.5  ,\n",
       "         8.531,  -8.188,   9.5  ,  -7.781,  -3.344,   6.031,   6.406,\n",
       "         7.75 ,   8.938,  -6.562,  -8.094,  -3.688,  -4.344,  -5.844,\n",
       "        -5.875,  -5.594,  -9.344,  -9.469,  -9.406,  -8.312,  -8.062,\n",
       "        -7.938,  -7.719,  -8.031,  -7.875,  -2.625,  -3.25 ,  -2.562,\n",
       "        -2.438,   1.125,   9.875,   9.719,  -4.188,   7.281,  -6.469,\n",
       "        -7.125,  -4.969,  -5.438,  -6.156,  -3.406,  -0.469,  -0.656,\n",
       "         6.125,  -4.375,  -4.   ,   4.25 ,   7.156,   7.562,   6.875,\n",
       "        -2.781,  -3.938,  -6.906,  -7.25 ,  -1.156,   8.594,   6.344,\n",
       "        -7.531,  -8.5  ,   9.188,  -4.094,   9.469,   9.594,  -6.344,\n",
       "         6.844,   2.062,  -1.531,  -4.062,  -3.469,  -1.281,   6.469,\n",
       "        -1.688,   5.375,   7.531,   7.875,   9.156,  -1.5  ,   8.469,\n",
       "         8.312,   7.438,   6.969,   6.562,   9.125,   6.812,   7.375,\n",
       "         7.188,  -2.844,  -7.688,  -7.844,  -3.875,  -2.938,   3.062,\n",
       "        -3.125,   1.594,  -4.719,  -9.75 ,  -6.969,  -1.219,  -1.562,\n",
       "         8.562,   4.688,   4.656,  -5.719,  -5.062,  -5.969,   6.531,\n",
       "        -1.594,   8.219,  -1.375,   7.812,   5.312,   6.656,   8.188,\n",
       "         8.969,   8.062,   9.062,   9.094,  -6.656,  -6.75 ,  -6.625,\n",
       "         5.594,   3.25 ,  -3.812,  -3.656,  -4.594,   0.188,  -2.656,\n",
       "        -3.781,  -4.688,   7.688,  -6.594,  -5.688,   4.938,   7.781,\n",
       "        -5.469,  -1.844,  -2.875,  -2.5  ,  -9.719,  -0.625,  -2.094,\n",
       "        -3.969,  -8.812,  -5.25 ,  -5.312,  -0.75 ,  -4.469,  -4.844,\n",
       "        -4.281,  -3.094,  -7.656,  -2.812,   7.938,  -8.469,   7.844,\n",
       "        -1.438,  -8.75 ,  -5.781,  -7.406])"
      ]
     },
     "execution_count": 12,
     "metadata": {},
     "output_type": "execute_result"
    }
   ],
   "source": [
    "data['Rating'].unique()"
   ]
  },
  {
   "cell_type": "markdown",
   "metadata": {},
   "source": [
    "Hodnotenia sa pohybujú na číselnej škále od -10 do 10. Priemerné hodnotenie sa pohybuje na úrovni 1.5. Na základe dát vieme usúdiť, že sa nejedná o normálové rozdelie hodnotení."
   ]
  },
  {
   "cell_type": "code",
   "execution_count": 28,
   "metadata": {},
   "outputs": [
    {
     "data": {
      "text/plain": [
       "<matplotlib.axes._subplots.AxesSubplot at 0x7f82bebff7f0>"
      ]
     },
     "execution_count": 28,
     "metadata": {},
     "output_type": "execute_result"
    },
    {
     "data": {
      "image/png": "[encoded data removed]",
      "text/plain": [
       "<Figure size 432x288 with 1 Axes>"
      ]
     },
     "metadata": {
      "needs_background": "light"
     },
     "output_type": "display_data"
    }
   ],
   "source": [
    "sns.boxplot(y=\"Rating\", data=data)"
   ]
  },
  {
   "cell_type": "markdown",
   "metadata": {},
   "source": [
    "## Zoskupenie podľa používateľov"
   ]
  },
  {
   "cell_type": "code",
   "execution_count": 19,
   "metadata": {},
   "outputs": [],
   "source": [
    "data_groupby_user = data.groupby(['USER_ID']).agg({'JOKE_ID': 'count', 'Rating': 'mean'})"
   ]
  },
  {
   "cell_type": "code",
   "execution_count": 20,
   "metadata": {},
   "outputs": [
    {
     "data": {
      "text/html": [
       "<div>\n",
       "<style scoped>\n",
       "    .dataframe tbody tr th:only-of-type {\n",
       "        vertical-align: middle;\n",
       "    }\n",
       "\n",
       "    .dataframe tbody tr th {\n",
       "        vertical-align: top;\n",
       "    }\n",
       "\n",
       "    .dataframe thead th {\n",
       "        text-align: right;\n",
       "    }\n",
       "</style>\n",
       "<table border=\"1\" class=\"dataframe\">\n",
       "  <thead>\n",
       "    <tr style=\"text-align: right;\">\n",
       "      <th></th>\n",
       "      <th>JOKE_ID</th>\n",
       "      <th>Rating</th>\n",
       "    </tr>\n",
       "    <tr>\n",
       "      <th>USER_ID</th>\n",
       "      <th></th>\n",
       "      <th></th>\n",
       "    </tr>\n",
       "  </thead>\n",
       "  <tbody>\n",
       "    <tr>\n",
       "      <th>1</th>\n",
       "      <td>62</td>\n",
       "      <td>2.094694</td>\n",
       "    </tr>\n",
       "    <tr>\n",
       "      <th>2</th>\n",
       "      <td>34</td>\n",
       "      <td>3.739029</td>\n",
       "    </tr>\n",
       "    <tr>\n",
       "      <th>3</th>\n",
       "      <td>18</td>\n",
       "      <td>-6.817667</td>\n",
       "    </tr>\n",
       "    <tr>\n",
       "      <th>4</th>\n",
       "      <td>3</td>\n",
       "      <td>-5.072667</td>\n",
       "    </tr>\n",
       "    <tr>\n",
       "      <th>5</th>\n",
       "      <td>82</td>\n",
       "      <td>2.600195</td>\n",
       "    </tr>\n",
       "  </tbody>\n",
       "</table>\n",
       "</div>"
      ],
      "text/plain": [
       "         JOKE_ID    Rating\n",
       "USER_ID                   \n",
       "1             62  2.094694\n",
       "2             34  3.739029\n",
       "3             18 -6.817667\n",
       "4              3 -5.072667\n",
       "5             82  2.600195"
      ]
     },
     "execution_count": 20,
     "metadata": {},
     "output_type": "execute_result"
    }
   ],
   "source": [
    "data_groupby_user.head()"
   ]
  },
  {
   "cell_type": "code",
   "execution_count": 21,
   "metadata": {},
   "outputs": [
    {
     "data": {
      "text/plain": [
       "count    36531.000000\n",
       "mean        28.703704\n",
       "std         31.656621\n",
       "min          1.000000\n",
       "25%          8.000000\n",
       "50%         16.000000\n",
       "75%         35.000000\n",
       "max        140.000000\n",
       "Name: JOKE_ID, dtype: float64"
      ]
     },
     "execution_count": 21,
     "metadata": {},
     "output_type": "execute_result"
    }
   ],
   "source": [
    "data_groupby_user['JOKE_ID'].describe()"
   ]
  },
  {
   "cell_type": "markdown",
   "metadata": {},
   "source": [
    "### Počet hodnotení používateľov"
   ]
  },
  {
   "cell_type": "code",
   "execution_count": 22,
   "metadata": {},
   "outputs": [
    {
     "data": {
      "text/plain": [
       "count    36531.000000\n",
       "mean        28.703704\n",
       "std         31.656621\n",
       "min          1.000000\n",
       "25%          8.000000\n",
       "50%         16.000000\n",
       "75%         35.000000\n",
       "max        140.000000\n",
       "Name: JOKE_ID, dtype: float64"
      ]
     },
     "execution_count": 22,
     "metadata": {},
     "output_type": "execute_result"
    }
   ],
   "source": [
    "data_groupby_user['JOKE_ID'].describe()"
   ]
  },
  {
   "cell_type": "code",
   "execution_count": 23,
   "metadata": {},
   "outputs": [
    {
     "data": {
      "text/plain": [
       "<matplotlib.axes._subplots.AxesSubplot at 0x7f82becc89e8>"
      ]
     },
     "execution_count": 23,
     "metadata": {},
     "output_type": "execute_result"
    },
    {
     "data": {
      "image/png": "[encoded data removed]",
      "text/plain": [
       "<Figure size 432x288 with 1 Axes>"
      ]
     },
     "metadata": {
      "needs_background": "light"
     },
     "output_type": "display_data"
    }
   ],
   "source": [
    "data_groupby_user['JOKE_ID'].hist()"
   ]
  },
  {
   "cell_type": "markdown",
   "metadata": {},
   "source": [
    "Na grafe môžeme vidieť na \n",
    " - x os - vidíme koľko hodnotení používateľ vykonal\n",
    " - y os - počet takých používateľov\n",
    " \n",
    "Priemerne používatelia ohodnotili 28 položiek."
   ]
  },
  {
   "cell_type": "markdown",
   "metadata": {},
   "source": [
    "## Zoskupenie podľa vtipov"
   ]
  },
  {
   "cell_type": "code",
   "execution_count": 24,
   "metadata": {},
   "outputs": [],
   "source": [
    "data_groupby_joke = data.groupby(['JOKE_ID']).agg({'USER_ID': 'count', 'Rating': 'mean'})"
   ]
  },
  {
   "cell_type": "code",
   "execution_count": 25,
   "metadata": {},
   "outputs": [
    {
     "data": {
      "text/html": [
       "<div>\n",
       "<style scoped>\n",
       "    .dataframe tbody tr th:only-of-type {\n",
       "        vertical-align: middle;\n",
       "    }\n",
       "\n",
       "    .dataframe tbody tr th {\n",
       "        vertical-align: top;\n",
       "    }\n",
       "\n",
       "    .dataframe thead th {\n",
       "        text-align: right;\n",
       "    }\n",
       "</style>\n",
       "<table border=\"1\" class=\"dataframe\">\n",
       "  <thead>\n",
       "    <tr style=\"text-align: right;\">\n",
       "      <th></th>\n",
       "      <th>USER_ID</th>\n",
       "      <th>Rating</th>\n",
       "    </tr>\n",
       "    <tr>\n",
       "      <th>JOKE_ID</th>\n",
       "      <th></th>\n",
       "      <th></th>\n",
       "    </tr>\n",
       "  </thead>\n",
       "  <tbody>\n",
       "    <tr>\n",
       "      <th>5</th>\n",
       "      <td>661</td>\n",
       "      <td>-1.756331</td>\n",
       "    </tr>\n",
       "    <tr>\n",
       "      <th>7</th>\n",
       "      <td>36521</td>\n",
       "      <td>-1.843717</td>\n",
       "    </tr>\n",
       "    <tr>\n",
       "      <th>8</th>\n",
       "      <td>35705</td>\n",
       "      <td>-0.753566</td>\n",
       "    </tr>\n",
       "    <tr>\n",
       "      <th>13</th>\n",
       "      <td>34880</td>\n",
       "      <td>-0.585386</td>\n",
       "    </tr>\n",
       "    <tr>\n",
       "      <th>15</th>\n",
       "      <td>34038</td>\n",
       "      <td>-1.446394</td>\n",
       "    </tr>\n",
       "  </tbody>\n",
       "</table>\n",
       "</div>"
      ],
      "text/plain": [
       "         USER_ID    Rating\n",
       "JOKE_ID                   \n",
       "5            661 -1.756331\n",
       "7          36521 -1.843717\n",
       "8          35705 -0.753566\n",
       "13         34880 -0.585386\n",
       "15         34038 -1.446394"
      ]
     },
     "execution_count": 25,
     "metadata": {},
     "output_type": "execute_result"
    }
   ],
   "source": [
    "data_groupby_joke.head()"
   ]
  },
  {
   "cell_type": "markdown",
   "metadata": {},
   "source": [
    "Pocet hodnoteni vtipu"
   ]
  },
  {
   "cell_type": "code",
   "execution_count": 26,
   "metadata": {},
   "outputs": [
    {
     "data": {
      "text/plain": [
       "count      140.000000\n",
       "mean      7489.821429\n",
       "std       7287.801443\n",
       "min        166.000000\n",
       "25%       3569.750000\n",
       "50%       5745.000000\n",
       "75%       8427.750000\n",
       "max      36521.000000\n",
       "Name: USER_ID, dtype: float64"
      ]
     },
     "execution_count": 26,
     "metadata": {},
     "output_type": "execute_result"
    }
   ],
   "source": [
    "data_groupby_joke['USER_ID'].describe()"
   ]
  },
  {
   "cell_type": "code",
   "execution_count": 27,
   "metadata": {},
   "outputs": [
    {
     "data": {
      "text/plain": [
       "<matplotlib.axes._subplots.AxesSubplot at 0x7f82bec09080>"
      ]
     },
     "execution_count": 27,
     "metadata": {},
     "output_type": "execute_result"
    },
    {
     "data": {
      "image/png": "[encoded data removed]",
      "text/plain": [
       "<Figure size 432x288 with 1 Axes>"
      ]
     },
     "metadata": {
      "needs_background": "light"
     },
     "output_type": "display_data"
    }
   ],
   "source": [
    "data_groupby_joke['USER_ID'].hist()"
   ]
  },
  {
   "cell_type": "markdown",
   "metadata": {},
   "source": [
    "Na grafe môžeme vidieť na \n",
    " - x os - vidíme koľko hodnotení vtip dostal\n",
    " - y os - počet takých položiek\n",
    " \n",
    "Priemerne vtipy ohodnotilo 7489 používateľov."
   ]
  },
  {
   "cell_type": "code",
   "execution_count": null,
   "metadata": {},
   "outputs": [],
   "source": []
  }
 ],
 "metadata": {
  "kernelspec": {
   "display_name": "Python 3",
   "language": "python",
   "name": "python3"
  },
  "language_info": {
   "codemirror_mode": {
    "name": "ipython",
    "version": 3
   },
   "file_extension": ".py",
   "mimetype": "text/x-python",
   "name": "python",
   "nbconvert_exporter": "python",
   "pygments_lexer": "ipython3",
   "version": "3.6.8"
  }
 },
 "nbformat": 4,
 "nbformat_minor": 2
}
