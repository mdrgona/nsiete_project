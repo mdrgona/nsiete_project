{
 "cells": [
  {
   "cell_type": "code",
   "execution_count": 29,
   "metadata": {},
   "outputs": [
    {
     "name": "stdout",
     "output_type": "stream",
     "text": [
      "The autoreload extension is already loaded. To reload it, use:\n",
      "  %reload_ext autoreload\n",
      "The tensorboard extension is already loaded. To reload it, use:\n",
      "  %reload_ext tensorboard\n"
     ]
    }
   ],
   "source": [
    "# Enable module reloading\n",
    "%load_ext autoreload\n",
    "%autoreload 2\n",
    "\n",
    "%load_ext tensorboard\n",
    "\n",
    "import datetime\n",
    "import os\n",
    "import sys\n",
    "sys.path.append('..')\n",
    "\n",
    "import tensorflow as tf\n",
    "import tensorflow.keras as keras\n",
    "import numpy as np\n",
    "import time;\n",
    "\n",
    "from tensorflow.keras import initializers\n",
    "from tensorflow.keras.models import Model\n",
    "from tensorflow.keras.layers import Embedding, Input, Dense, Flatten, concatenate\n",
    "from src.data.load_data import *\n",
    "from sklearn.model_selection import train_test_split"
   ]
  },
  {
   "cell_type": "code",
   "execution_count": 42,
   "metadata": {},
   "outputs": [],
   "source": [
    "layers = 2\n",
    "units_in_layers = [50, 5]\n",
    "units_first_layer = 100\n",
    "\n",
    "# load data // load_data.py\n",
    "df = load_dataset(filename='../data/Jester-Dataset-ratings.csv')\n",
    "\n",
    "train, test = train_test_split(df, test_size=0.2)\n",
    "\n",
    "user_ids, joke_ids, ratings = get_data(df=train, batch_size=100000)"
   ]
  },
  {
   "cell_type": "code",
   "execution_count": 43,
   "metadata": {},
   "outputs": [
    {
     "name": "stdout",
     "output_type": "stream",
     "text": [
      "Train on 64000 samples, validate on 16000 samples\n",
      "Epoch 1/10\n",
      "64000/64000 [==============================] - 38s 593us/sample - loss: 30.7618 - accuracy: 0.0021 - val_loss: 29.7390 - val_accuracy: 0.0021\n",
      "Epoch 2/10\n",
      "64000/64000 [==============================] - 37s 576us/sample - loss: 29.3488 - accuracy: 0.0021 - val_loss: 29.6563 - val_accuracy: 0.0023\n",
      "Epoch 3/10\n",
      "64000/64000 [==============================] - 40s 618us/sample - loss: 29.1184 - accuracy: 0.0023 - val_loss: 29.6178 - val_accuracy: 0.0022\n",
      "Epoch 4/10\n",
      "64000/64000 [==============================] - 39s 616us/sample - loss: 29.0164 - accuracy: 0.0020 - val_loss: 29.6172 - val_accuracy: 0.0021\n",
      "Epoch 5/10\n",
      "64000/64000 [==============================] - 37s 572us/sample - loss: 28.9374 - accuracy: 0.0022 - val_loss: 29.6044 - val_accuracy: 0.0022\n",
      "Epoch 6/10\n",
      "64000/64000 [==============================] - 37s 577us/sample - loss: 28.8839 - accuracy: 0.0020 - val_loss: 29.6172 - val_accuracy: 0.0021\n",
      "Epoch 7/10\n",
      "64000/64000 [==============================] - 36s 568us/sample - loss: 28.8372 - accuracy: 0.0020 - val_loss: 29.6311 - val_accuracy: 0.0022\n",
      "Epoch 8/10\n",
      "64000/64000 [==============================] - 38s 588us/sample - loss: 28.8151 - accuracy: 0.0022 - val_loss: 29.6349 - val_accuracy: 0.0021\n",
      "Epoch 9/10\n",
      "64000/64000 [==============================] - 35s 546us/sample - loss: 28.7910 - accuracy: 0.0021 - val_loss: 29.6202 - val_accuracy: 0.0022\n",
      "Epoch 10/10\n",
      "64000/64000 [==============================] - 36s 570us/sample - loss: 28.7730 - accuracy: 0.0022 - val_loss: 29.6133 - val_accuracy: 0.0023\n"
     ]
    },
    {
     "data": {
      "text/plain": [
       "<tensorflow.python.keras.callbacks.History at 0x7fe4c5d6ae80>"
      ]
     },
     "execution_count": 43,
     "metadata": {},
     "output_type": "execute_result"
    }
   ],
   "source": [
    "# neural network architecture // model.py\n",
    "\n",
    "# input layers\n",
    "user_input = Input(shape=(1,), dtype='float64')\n",
    "joke_input = Input(shape=(1,), dtype='float64')\n",
    "\n",
    "# embedding layers\n",
    "user_embedding = Embedding(\n",
    "    input_dim=len(user_ids),\n",
    "    output_dim=int(units_first_layer / 2),\n",
    "    input_length=1\n",
    ")\n",
    "\n",
    "joke_embedding = Embedding(\n",
    "    input_dim=len(joke_ids),\n",
    "    output_dim=int(units_first_layer / 2),\n",
    "    input_length=1\n",
    ")\n",
    "\n",
    "\n",
    "# flatten embeddings\n",
    "user_latent = Flatten()(user_embedding(user_input))\n",
    "joke_latent = Flatten()(joke_embedding(joke_input))\n",
    "\n",
    "# concatenate user and joke embeddings\n",
    "\n",
    "final_vector = concatenate([user_latent, joke_latent])\n",
    "\n",
    "\n",
    "# hidden layers\n",
    "for i in range(1, layers):\n",
    "    layer = Dense(units=units_in_layers[i], activation='relu')\n",
    "    final_vector = layer(final_vector)\n",
    "\n",
    "# output layer\n",
    "output = Dense(units=1, activation='tanh')(final_vector)\n",
    "\n",
    "# Training routine // train.py\n",
    "\n",
    "model = Model(\n",
    "    inputs=[user_input, joke_input],\n",
    "    outputs=output\n",
    ")\n",
    "\n",
    "model.compile(\n",
    "    optimizer='adam', \n",
    "    loss='mean_squared_error', \n",
    "    metrics=['accuracy']\n",
    ")\n",
    "\n",
    "tensorboard_callback = keras.callbacks.TensorBoard(\n",
    "    log_dir=os.path.join(\"../logs\", str(time.time())),\n",
    "    histogram_freq=1)\n",
    "\n",
    "model.fit(\n",
    "    x=[np.array(user_ids), np.array(joke_ids)],\n",
    "    y=np.array(ratings),\n",
    "    batch_size=100, \n",
    "    epochs=10,\n",
    "    callbacks=[tensorboard_callback],\n",
    "    validation_split=0.2\n",
    ")"
   ]
  },
  {
   "cell_type": "code",
   "execution_count": 44,
   "metadata": {},
   "outputs": [],
   "source": [
    "result = model.predict([np.array(user_ids), np.array(joke_ids)])"
   ]
  },
  {
   "cell_type": "code",
   "execution_count": 45,
   "metadata": {},
   "outputs": [
    {
     "data": {
      "text/html": [
       "<div>\n",
       "<style scoped>\n",
       "    .dataframe tbody tr th:only-of-type {\n",
       "        vertical-align: middle;\n",
       "    }\n",
       "\n",
       "    .dataframe tbody tr th {\n",
       "        vertical-align: top;\n",
       "    }\n",
       "\n",
       "    .dataframe thead th {\n",
       "        text-align: right;\n",
       "    }\n",
       "</style>\n",
       "<table border=\"1\" class=\"dataframe\">\n",
       "  <thead>\n",
       "    <tr style=\"text-align: right;\">\n",
       "      <th></th>\n",
       "      <th>0</th>\n",
       "    </tr>\n",
       "  </thead>\n",
       "  <tbody>\n",
       "    <tr>\n",
       "      <th>count</th>\n",
       "      <td>80000.000000</td>\n",
       "    </tr>\n",
       "    <tr>\n",
       "      <th>mean</th>\n",
       "      <td>0.301933</td>\n",
       "    </tr>\n",
       "    <tr>\n",
       "      <th>std</th>\n",
       "      <td>0.934859</td>\n",
       "    </tr>\n",
       "    <tr>\n",
       "      <th>min</th>\n",
       "      <td>-1.000000</td>\n",
       "    </tr>\n",
       "    <tr>\n",
       "      <th>25%</th>\n",
       "      <td>-0.998457</td>\n",
       "    </tr>\n",
       "    <tr>\n",
       "      <th>50%</th>\n",
       "      <td>0.999995</td>\n",
       "    </tr>\n",
       "    <tr>\n",
       "      <th>75%</th>\n",
       "      <td>1.000000</td>\n",
       "    </tr>\n",
       "    <tr>\n",
       "      <th>max</th>\n",
       "      <td>1.000000</td>\n",
       "    </tr>\n",
       "  </tbody>\n",
       "</table>\n",
       "</div>"
      ],
      "text/plain": [
       "                  0\n",
       "count  80000.000000\n",
       "mean       0.301933\n",
       "std        0.934859\n",
       "min       -1.000000\n",
       "25%       -0.998457\n",
       "50%        0.999995\n",
       "75%        1.000000\n",
       "max        1.000000"
      ]
     },
     "execution_count": 45,
     "metadata": {},
     "output_type": "execute_result"
    }
   ],
   "source": [
    "pd.DataFrame(result).describe()"
   ]
  },
  {
   "cell_type": "code",
   "execution_count": 46,
   "metadata": {},
   "outputs": [
    {
     "data": {
      "text/plain": [
       "array([[ 1.        ,  2.375     ],\n",
       "       [ 1.        ,  0.469     ],\n",
       "       [ 1.        ,  7.406     ],\n",
       "       [-0.99997735, -4.344     ],\n",
       "       [ 0.99992305,  0.906     ],\n",
       "       [ 1.        ,  1.219     ],\n",
       "       [ 0.99993145, -9.031     ],\n",
       "       [-0.99925292, -3.031     ],\n",
       "       [ 1.        ,  3.375     ],\n",
       "       [ 1.        ,  8.281     ]])"
      ]
     },
     "execution_count": 46,
     "metadata": {},
     "output_type": "execute_result"
    }
   ],
   "source": [
    "np.column_stack((result, ratings))[:10]"
   ]
  },
  {
   "cell_type": "code",
   "execution_count": 47,
   "metadata": {},
   "outputs": [],
   "source": [
    "result_data = pd.DataFrame(data={'user': user_ids, 'joke': joke_ids, 'rating': result.T[0]})\n",
    "real_data = pd.DataFrame(data={'user': user_ids, 'joke': joke_ids, 'rating': ratings})"
   ]
  },
  {
   "cell_type": "code",
   "execution_count": null,
   "metadata": {},
   "outputs": [],
   "source": []
  },
  {
   "cell_type": "code",
   "execution_count": 48,
   "metadata": {},
   "outputs": [
    {
     "name": "stderr",
     "output_type": "stream",
     "text": [
      "INFO:src.recommender_model:RecommenderModel initialized\n",
      "INFO:src.recommender_model:Data handling\n",
      "INFO:src.recommender_model:Predicting\n",
      "INFO:src.recommender_model:Saving\n",
      "INFO:src.recommender_model:Done\n",
      "INFO:src.svd:SVD model initialized\n",
      "INFO:src.svd:Creating pivot table\n",
      "INFO:src.svd:Sparse rating with shape: (2388, 140)\n",
      "INFO:src.svd:Decompomposing matrix\n",
      "INFO:src.svd:Calculating prediction\n",
      "INFO:src.svd:Done\n"
     ]
    },
    {
     "name": "stdout",
     "output_type": "stream",
     "text": [
      "precision@10 model 0.016853428955625357\n",
      "precision@10 svd 0.22469744509189066\n"
     ]
    }
   ],
   "source": [
    "from src.recommender_model import *\n",
    "from src.svd import *\n",
    "\n",
    "recommender_model = RecommenderModel(model)\n",
    "recommender_model.fit(train)\n",
    "svd = Svd()\n",
    "svd.fit(train)\n",
    "\n",
    "# print(recommender_model.predictions)\n",
    "\n",
    "users = test['USER_ID'].unique()\n",
    "precision_model = 0\n",
    "precision_svd = 0\n",
    "for user in users:\n",
    "    user_rec_model = list(recommender_model.recommend(user, 10)['JOKE_ID'])\n",
    "    user_rec_svd = list(svd.recommend(user, 10)['JOKE_ID'])\n",
    "    user_test = list(test[test['USER_ID'] == user]['JOKE_ID'])\n",
    "    \n",
    "    user_precision_model = len(set(user_rec_model).intersection(user_test)) / 10\n",
    "    user_precision_svd = len(set(user_rec_svd).intersection(user_test)) / 10\n",
    "    \n",
    "    precision_model = precision_model + user_precision_model\n",
    "    precision_svd = precision_svd + user_precision_svd\n",
    "\n",
    "print('precision@10 model', precision_model / len(users))\n",
    "print('precision@10 svd', precision_svd / len(users))"
   ]
  },
  {
   "cell_type": "code",
   "execution_count": null,
   "metadata": {},
   "outputs": [],
   "source": [
    "df.head()"
   ]
  },
  {
   "cell_type": "code",
   "execution_count": null,
   "metadata": {},
   "outputs": [],
   "source": []
  }
 ],
 "metadata": {
  "kernelspec": {
   "display_name": "Python 3",
   "language": "python",
   "name": "python3"
  },
  "language_info": {
   "codemirror_mode": {
    "name": "ipython",
    "version": 3
   },
   "file_extension": ".py",
   "mimetype": "text/x-python",
   "name": "python",
   "nbconvert_exporter": "python",
   "pygments_lexer": "ipython3",
   "version": "3.6.8"
  }
 },
 "nbformat": 4,
 "nbformat_minor": 2
}
