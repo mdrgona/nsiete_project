{
 "cells": [
  {
   "cell_type": "code",
   "execution_count": 1,
   "metadata": {},
   "outputs": [],
   "source": [
    "import pandas as pd\n",
    "import numpy as np\n",
    "from sklearn.model_selection import train_test_split\n",
    "\n",
    "%load_ext autoreload\n",
    "%autoreload 2\n",
    "\n",
    "from src.svd import *\n"
   ]
  },
  {
   "cell_type": "code",
   "execution_count": 69,
   "metadata": {},
   "outputs": [],
   "source": [
    "data = pd.read_csv('./data/Jester-Dataset-ratings.csv', delimiter=',')"
   ]
  },
  {
   "cell_type": "code",
   "execution_count": 70,
   "metadata": {},
   "outputs": [],
   "source": [
    "train, test = train_test_split(data, test_size=0.2)"
   ]
  },
  {
   "cell_type": "code",
   "execution_count": null,
   "metadata": {},
   "outputs": [
    {
     "name": "stderr",
     "output_type": "stream",
     "text": [
      "INFO:src.svd:SVD model initialized\n",
      "INFO:src.svd:Creating pivot table\n",
      "INFO:src.svd:Sparse rating with shape: (36339, 140)\n",
      "INFO:src.svd:Decompomposing matrix\n",
      "INFO:src.svd:Calculating prediction\n",
      "INFO:src.svd:Done\n"
     ]
    }
   ],
   "source": [
    "svd = Svd()\n",
    "svd.fit(train)\n",
    "\n",
    "users = test['USER_ID'].unique()\n",
    "precision = 0\n",
    "for user in users:\n",
    "    user_rec = list(svd.recommend(user, 10)['JOKE_ID'])\n",
    "    user_test = list(test[test['USER_ID'] == user]['JOKE_ID'])\n",
    "    user_precision = len(set(user_rec).intersection(user_test)) / len(user_test)\n",
    "    precision = precision + user_precision\n",
    "precision = precision / len(users)\n",
    "\n",
    "print(precision)"
   ]
  },
  {
   "cell_type": "code",
   "execution_count": null,
   "metadata": {},
   "outputs": [],
   "source": []
  }
 ],
 "metadata": {
  "kernelspec": {
   "display_name": "Python 3",
   "language": "python",
   "name": "python3"
  },
  "language_info": {
   "codemirror_mode": {
    "name": "ipython",
    "version": 3
   },
   "file_extension": ".py",
   "mimetype": "text/x-python",
   "name": "python",
   "nbconvert_exporter": "python",
   "pygments_lexer": "ipython3",
   "version": "3.6.8"
  }
 },
 "nbformat": 4,
 "nbformat_minor": 2
}
