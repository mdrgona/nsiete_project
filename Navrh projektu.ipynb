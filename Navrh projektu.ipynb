{
 "cells": [
  {
   "cell_type": "markdown",
   "metadata": {},
   "source": [
    "# Motivacia"
   ]
  },
  {
   "cell_type": "markdown",
   "metadata": {},
   "source": [
    "# Podobne riesenia"
   ]
  },
  {
   "cell_type": "markdown",
   "metadata": {},
   "source": [
    "# Datasety"
   ]
  },
  {
   "cell_type": "markdown",
   "metadata": {},
   "source": [
    "V domene odporucanich systemov existuje mnozstvo netriavialnych datasetov, medzi najznamejsie a najviac pouzivane patria nasledujuce:\n",
    "* [MovieLens](https://www.kaggle.com/prajitdatta/movielens-100k-dataset) - domena filmov: nad 25 000 zaznamov\n",
    "* [Book-Crossings](http://www2.informatik.uni-freiburg.de/~cziegler/BX/) - domena knih: nad 270 000 zaznamov\n",
    "* [Jester](https://www.kaggle.com/aakaashjois/jester-collaborative-filtering-dataset) - domena vtipov: 100 zaznamov\n",
    "\n",
    "V ramci nasho projektu sme si vybrali taktiez velky a znamy dataset v domene recenzii na Amazon produkty (link: http://jmcauley.ucsd.edu/data/amazon/). Recenzie sa tykaju viacerych kategorii produktov, ako napr. knihy, oblecenie, hry a ine. \n",
    "\n",
    "My sme sa rozhodli pre recenzie v domene XXX. Pouzity dataset ma velkost YYY\n"
   ]
  },
  {
   "cell_type": "markdown",
   "metadata": {},
   "source": [
    "# Strucny navrh riesenia"
   ]
  },
  {
   "cell_type": "markdown",
   "metadata": {},
   "source": [
    "# Referencie"
   ]
  },
  {
   "cell_type": "markdown",
   "metadata": {},
   "source": [
    "### Zaujimave clanky"
   ]
  },
  {
   "cell_type": "markdown",
   "metadata": {},
   "source": [
    "Jester existujuci system - https://goldberg.berkeley.edu/pubs/tavi-recsys2007-spap122s1-nathanson.pdf\n",
    "\n",
    "Textove features do recommender systemu - https://jamesrledoux.com/projects/gutenberg-recommender-system/\n",
    "\n",
    "https://journal-bcs.springeropen.com/articles/10.1186/s13173-017-0057-8\n",
    "\n",
    "https://www.aclweb.org/anthology/W15-1509.pdf"
   ]
  },
  {
   "cell_type": "code",
   "execution_count": null,
   "metadata": {},
   "outputs": [],
   "source": []
  }
 ],
 "metadata": {
  "kernelspec": {
   "display_name": "Python 3",
   "language": "python",
   "name": "python3"
  },
  "language_info": {
   "codemirror_mode": {
    "name": "ipython",
    "version": 3
   },
   "file_extension": ".py",
   "mimetype": "text/x-python",
   "name": "python",
   "nbconvert_exporter": "python",
   "pygments_lexer": "ipython3",
   "version": "3.7.3"
  }
 },
 "nbformat": 4,
 "nbformat_minor": 2
}
